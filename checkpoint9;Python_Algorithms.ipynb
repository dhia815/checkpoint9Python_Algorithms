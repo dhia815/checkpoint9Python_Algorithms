{
 "cells": [
  {
   "cell_type": "code",
   "execution_count": 90,
   "id": "7282256a",
   "metadata": {},
   "outputs": [
    {
     "name": "stdout",
     "output_type": "stream",
     "text": [
      "False\n",
      "True\n"
     ]
    }
   ],
   "source": [
    "# Question 1:\n",
    "\n",
    "def Binary_Search(List, Target, begin_index = 0, end_index = \"No value\"):\n",
    "    if end_index == \"No value\":\n",
    "        end_index = len(List) - 1\n",
    "    if end_index >= begin_index:\n",
    "        mid = int(begin_index + (end_index - begin_index)/2)\n",
    "        if List[mid] == Target:\n",
    "            print (True)\n",
    "        elif List[mid] > Target:\n",
    "            return Binary_Search(List, Target, begin_index, mid-1)\n",
    "        else:\n",
    "            return Binary_Search(List, Target, mid+1, end_index)\n",
    "    else:\n",
    "        print(False)\n",
    "\n",
    "        \n",
    "Binary_Search([1,2,3,5,8], 6)\n",
    "Binary_Search([1,2,3,5,8], 5)"
   ]
  },
  {
   "cell_type": "code",
   "execution_count": 91,
   "id": "3b58a716",
   "metadata": {},
   "outputs": [
    {
     "data": {
      "text/plain": [
       "81"
      ]
     },
     "execution_count": 91,
     "metadata": {},
     "output_type": "execute_result"
    }
   ],
   "source": [
    "# Question 2:\n",
    "\n",
    "def power (a, b):\n",
    "    if b == 0:\n",
    "        return 1\n",
    "    if b == 1:\n",
    "        return a\n",
    "    else :\n",
    "        return a * power(a,b-1)\n",
    "    \n",
    "    \n",
    "power(3, 4)"
   ]
  },
  {
   "cell_type": "code",
   "execution_count": 92,
   "id": "bbb8118e",
   "metadata": {},
   "outputs": [
    {
     "data": {
      "text/plain": [
       "[13, 22, 29, 37, 46, 49, 52, 56, 71]"
      ]
     },
     "execution_count": 92,
     "metadata": {},
     "output_type": "execute_result"
    }
   ],
   "source": [
    "# Question 3:\n",
    "\n",
    "def bubble_sort(List):\n",
    "    for i in range(len(List)-1,0,-1):\n",
    "        for j in range(i):\n",
    "            if List[j] > List[j+1]:\n",
    "                temp = List[j]\n",
    "                List[j] = List[j+1]\n",
    "                List[j+1] = temp\n",
    "    return List\n",
    "\n",
    "\n",
    "bubble_sort([29,13,22,37,52,49,46,71,56])"
   ]
  },
  {
   "cell_type": "code",
   "execution_count": 93,
   "id": "4087e292",
   "metadata": {},
   "outputs": [
    {
     "data": {
      "text/plain": [
       "[13, 22, 29, 37, 46, 49, 52, 56, 71]"
      ]
     },
     "execution_count": 93,
     "metadata": {},
     "output_type": "execute_result"
    }
   ],
   "source": [
    "# Question 4:\n",
    "\n",
    "def merge_sort(List):\n",
    "    if len(List) > 1:\n",
    "        mid = len(List) // 2\n",
    "        left = List[:mid]\n",
    "        right = List[mid:]\n",
    "        merge_sort(left)\n",
    "        merge_sort(right)\n",
    "        index_in_left = 0\n",
    "        index_in_right = 0\n",
    "        nextList = 0\n",
    "        while index_in_left < len(left) and index_in_right < len(right):\n",
    "            if left[index_in_left] < right[index_in_right]:\n",
    "                List[nextList] = left[index_in_left]\n",
    "                index_in_left += 1\n",
    "            else:\n",
    "                List[nextList] = right[index_in_right]\n",
    "                index_in_right += 1\n",
    "            nextList += 1\n",
    "        while index_in_left < len(left):\n",
    "            List[nextList] = left[index_in_left]\n",
    "            index_in_left += 1\n",
    "            nextList += 1\n",
    "        while index_in_right < len(right):\n",
    "            List[nextList]=right[index_in_right]\n",
    "            index_in_right += 1\n",
    "            nextList += 1\n",
    "    return List\n",
    "\n",
    "\n",
    "merge_sort([29,13,22,37,52,49,46,71,56])"
   ]
  },
  {
   "cell_type": "code",
   "execution_count": 94,
   "id": "7fdac2e1",
   "metadata": {},
   "outputs": [
    {
     "data": {
      "text/plain": [
       "[13, 22, 29, 37, 46, 49, 52, 56, 71]"
      ]
     },
     "execution_count": 94,
     "metadata": {},
     "output_type": "execute_result"
    }
   ],
   "source": [
    "# Question 5:\n",
    "\n",
    "def partition(List, begin_index, end_index):\n",
    "    x = begin_index-1\n",
    "    pivot = List[end_index]\n",
    "\n",
    "    for y in range(begin_index, end_index):\n",
    "        if List[y] <= pivot:\n",
    "            x += 1\n",
    "            temp = List[x]\n",
    "            List[x] = List[y]\n",
    "            List[y] = temp\n",
    "    temp = List[x+1]\n",
    "    List[x+1] = List[end_index]\n",
    "    List[end_index] = temp\n",
    "    return x + 1, List \n",
    "def quick_sort(List,begin_index = 0,end_index = \"No value\"):\n",
    "    if end_index == \"No value\":\n",
    "        end_index = len(List)-1\n",
    "    if (begin_index < end_index):\n",
    "        pi , List= partition(List,begin_index,end_index)\n",
    "        List = quick_sort(List,pi+1,end_index)\n",
    "        List = quick_sort(List,begin_index,pi-1)\n",
    "    return List\n",
    "\n",
    "\n",
    "quick_sort([29,13,22,37,52,49,46,71,56])"
   ]
  },
  {
   "cell_type": "code",
   "execution_count": null,
   "id": "c0e63652",
   "metadata": {},
   "outputs": [],
   "source": []
  }
 ],
 "metadata": {
  "kernelspec": {
   "display_name": "Python 3",
   "language": "python",
   "name": "python3"
  },
  "language_info": {
   "codemirror_mode": {
    "name": "ipython",
    "version": 3
   },
   "file_extension": ".py",
   "mimetype": "text/x-python",
   "name": "python",
   "nbconvert_exporter": "python",
   "pygments_lexer": "ipython3",
   "version": "3.8.8"
  }
 },
 "nbformat": 4,
 "nbformat_minor": 5
}
